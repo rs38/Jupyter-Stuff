{
 "cells": [
  {
   "cell_type": "code",
   "execution_count": null,
   "metadata": {},
   "outputs": [],
   "source": [
    "import pandas as pd\n",
    "import numpy as np\n",
    "import os\n",
    "import datetime\n",
    "import matplotlib.pyplot as plt\n",
    "#dir = os.getcwd()\n",
    "dir = \"C:\\\\Users\\\\fbeth\\\\OneDrive\\\\Ablage\\\\\"\n",
    "#dir = \"C:\\\\Users\\\\u51051\\Downloads\"\n",
    "for file in os.listdir(dir):\n",
    "    if file.endswith('RWD2.csv') and file.__contains__('2022-12'):\n",
    "        file = os.path.join(dir, file)\n",
    "        break\n",
    "\n",
    "print(file)"
   ]
  },
  {
   "cell_type": "markdown",
   "metadata": {},
   "source": [
    "______\n",
    "### import .csv into DataFrame and remove whitespace and brackets from column names to use attribute access of df further below (autocomplete etc)"
   ]
  },
  {
   "cell_type": "code",
   "execution_count": null,
   "metadata": {},
   "outputs": [],
   "source": [
    "df = pd.read_csv(file, delimiter=';')#.head(200)\n",
    "df.PID.replace(r\"\\s+|\\[|\\]|\\(|\\)|\\.|\\:|\\-|\\/|\\#|08|8C|51\", '', regex=True, inplace=True)\n",
    "df=df[~df.PID.str.contains('Cell')]"
   ]
  },
  {
   "cell_type": "code",
   "execution_count": null,
   "metadata": {},
   "outputs": [],
   "source": [
    "def show_2d():\n",
    "    df.index = df.SECONDS\n",
    "    df.index = pd.Timestamp(datetime.date.today()) + pd.TimedeltaIndex(df.index, unit='s')\n",
    "    df.index.name = 'Time'\n",
    "    plt.figure(figsize=(10,8))\n",
    "    #df=df[\"2022-08-30 23:12:00.6\":\"2022-08-30 23:26:00.6\"]\n",
    "    plt.scatter(x=df.LONGTITUDE, y=df.LATITUDE,s=1)\n",
    "    plt.show()\n",
    "\n",
    "#show_2d()"
   ]
  },
  {
   "cell_type": "markdown",
   "metadata": {},
   "source": [
    "_____________\n",
    "### reshape table from purely line based to value columns with pivot\n",
    "a few lines will be merged"
   ]
  },
  {
   "cell_type": "code",
   "execution_count": null,
   "metadata": {},
   "outputs": [],
   "source": [
    "df = df.pivot_table( index = 'SECONDS', \n",
    "                        columns='PID', \n",
    "                        values='VALUE')\n",
    "df.columns.name = None"
   ]
  },
  {
   "cell_type": "markdown",
   "metadata": {},
   "source": [
    "__________________\n",
    "### convert seconds into Timestamp-Index"
   ]
  },
  {
   "cell_type": "code",
   "execution_count": null,
   "metadata": {},
   "outputs": [],
   "source": [
    "\n",
    "df.index = pd.Timestamp(datetime.date.today()) + pd.TimedeltaIndex(df.index, unit='s')\n",
    "df.index.name = 'Time'"
   ]
  },
  {
   "cell_type": "markdown",
   "metadata": {},
   "source": [
    "___\n",
    "resample to merge some lines\n",
    "\n",
    "add own power"
   ]
  },
  {
   "cell_type": "code",
   "execution_count": null,
   "metadata": {},
   "outputs": [],
   "source": [
    "df.index\n",
    "df=df.resample('500ms').mean()\n",
    "df[\"Power\"]=df.BMSBatteryVoltage*df.BMSHVBatteryCurrent/1000\n",
    "hz=2  # frequency used later on "
   ]
  },
  {
   "cell_type": "markdown",
   "metadata": {},
   "source": [
    "_______________\n",
    "### fill the gaps\n",
    "not always needed if already resampled data???"
   ]
  },
  {
   "cell_type": "code",
   "execution_count": null,
   "metadata": {},
   "outputs": [],
   "source": [
    "df.interpolate(method='linear', order=2, inplace=True, limit_direction='both')\n",
    "df.columns"
   ]
  },
  {
   "cell_type": "markdown",
   "metadata": {},
   "source": [
    "### translate to english if needed"
   ]
  },
  {
   "cell_type": "code",
   "execution_count": null,
   "metadata": {},
   "outputs": [],
   "source": [
    "df.rename(columns = {\"Geschwindigkeit\":\"Vehiclespeed\"}, inplace=True)\n",
    "df.rename(columns = {\"zurückgelegteStrecke\":\"Distancetravelled\"}, inplace=True)\n",
    "df.rename(columns = {\"HöheGPS\":\"AltitudeGPS\"}, inplace=True)\n",
    "df.columns"
   ]
  },
  {
   "cell_type": "code",
   "execution_count": null,
   "metadata": {},
   "outputs": [],
   "source": [
    "#df=df[1400:3400]\n",
    "\n",
    "#df.SpeedGPS.plot()  #df.Vehiclespeed.plot()\n",
    "#df.PTCWaterpumppower.multiply(0.01).plot()\n",
    "#df.Tripcomputer.plot()\n",
    "#df.PTCHeaterCurrent.plot()\n",
    "#df.BMSHVBatteryTemperatureAverage.multiply(1).plot()\n",
    "#df.Distancetravelled.multiply(5).plot() #df.Distancetravelled.multiply(4).plot()\n",
    "#df.HVACInteriortemperature.multiply(1).plot(figsize=(16,12), grid=True)\n",
    "\n",
    "fig, ax1 = plt.subplots()\n",
    "\n",
    "\n",
    "ax1.plot(df.Vehiclespeed, label=\"Velocity\")\n",
    "ax1.plot(df.Power, label=\"Power\")\n",
    "\n",
    "ax1.plot(df.BMSMaximumdynamicchargecurrentlimit.multiply(df.BMSBatteryVoltage/-1000),  label=\"Max recu in kW\")\n",
    "ax1.plot(df.BMSMaximumdynamicchargecurrentlimit.multiply(-1), label=\"Max recu in Amp\")\n",
    "ax2 = ax1.twinx()\n",
    "ax2.plot(df.SoCtrue, color=\"yellow\", linestyle='dashed',label=\"Soc\" )\n",
    "ax2.plot(df.BMSHVBatteryTemperatureAverage, color='lightblue', linestyle=\"dashed\", label=\"Temperature\")\n",
    "\n",
    "ax1.legend(loc='upper left')\n",
    "ax2.legend(loc='upper right')\n",
    "ax1.grid()\n",
    "ax2.set_ylim([-20,80])\n",
    "\n",
    "fig.set_size_inches(12, 7)\n",
    "plt.subplots_adjust(left=0.1, right=0.9, top=0.9, bottom=0.1)\n",
    "\n",
    "plt.show()"
   ]
  },
  {
   "cell_type": "code",
   "execution_count": null,
   "metadata": {},
   "outputs": [],
   "source": [
    "#df.to_excel(\"michael_Leihcan RWD.xlsx\")\n",
    "stop"
   ]
  },
  {
   "cell_type": "code",
   "execution_count": null,
   "metadata": {},
   "outputs": [],
   "source": [
    "df.EVInstantEnergyConsumptionkWh100km.plot(figsize=(15,11), grid=True)"
   ]
  },
  {
   "cell_type": "markdown",
   "metadata": {},
   "source": [
    "now try to find the laps by evaluation starts from 0 kmh or delta v:"
   ]
  },
  {
   "cell_type": "code",
   "execution_count": null,
   "metadata": {},
   "outputs": [],
   "source": [
    "np.set_printoptions(precision=2)\n",
    "\n",
    "def find_test_ranges (start_v, end_v):\n",
    "    finds = []\n",
    "    found=False; found_end=False\n",
    "    for i in range(0,df.shape[0]-1,1):\n",
    "        if df.Vehiclespeed[i] >= start_v and df.Vehiclespeed[i+1] < start_v:\n",
    "            start=i\n",
    "            found=True\n",
    "    \n",
    "        if found==True and df.Vehiclespeed[i] < end_v and df.Vehiclespeed[i-1] >= end_v:\n",
    "            end=i\n",
    "            found_end=True\n",
    "\n",
    "        if found_end:\n",
    "            finds.append({\"start\":start,\"end\":end})\n",
    "            found=False; found_end=False\n",
    "\n",
    "    return finds\n",
    "\n",
    "def find_laps (zeroSecs):\n",
    "    finds = []\n",
    "    found=False; found_end=False\n",
    "    for i in range(0,df.shape[0]-1,1):\n",
    "        if found == False and df.Vehiclespeed[i] == 0 and df.Vehiclespeed[i+1] > 0:\n",
    "            start=i\n",
    "            found=True\n",
    "    \n",
    "        if found==True and df.Vehiclespeed[i] == 0 and df.Vehiclespeed[i+zeroSecs] == 0:\n",
    "            end=i\n",
    "            found_end=True\n",
    "\n",
    "        if found_end:\n",
    "            finds.append({\"start\":start,\"end\":end})\n",
    "            found=False; found_end=False\n",
    "\n",
    "    return finds\n",
    "        \n",
    "def find_speed_ranges (speed, max_diff):\n",
    "    finds = []\n",
    "    found=False; found_end=False\n",
    "    for i in range(0,df.shape[0]-1,1):\n",
    "        if df.Vehiclespeed[i] <= speed and df.Vehiclespeed[i+1] > speed:\n",
    "            start=i\n",
    "            found=True\n",
    "    \n",
    "        if found==True and df.Vehiclespeed[i] < speed-max_diff:\n",
    "            end=i\n",
    "            found_end=True\n",
    "\n",
    "        if found_end:\n",
    "            finds.append({\"start\":start,\"end\":end})\n",
    "            found=False; found_end=False\n",
    "\n",
    "    return finds\n",
    " \n",
    "def get_diffs(finds):\n",
    "    diffs=[]\n",
    "    for f in finds:\n",
    "        #print(f)\n",
    "        diffs.append([df.Distancetravelled[f[\"end\"]]-df.Distancetravelled[f[\"start\"]],\n",
    "        (f[\"end\"]-f[\"start\"])/2.0,\n",
    "        #df.BMSHVBatterySoChighres[f[\"end\"]]-df.BMSHVBatterySoChighres[f[\"start\"]],\n",
    "        df.AltitudeGPS[f[\"end\"]]-df.AltitudeGPS[f[\"start\"]],\n",
    "        #df.Battenergy[ends[y]]-df.Battenergy[starts[y]],\n",
    "        df.EVInstantEnergyConsumptionkWh100km[f[\"start\"]:f[\"end\"]].mean(),\n",
    "        df.Power[f[\"start\"]:f[\"end\"]].sum()/(hz*3600)] )\n",
    "\n",
    "    return diffs\n",
    "    "
   ]
  },
  {
   "cell_type": "code",
   "execution_count": null,
   "metadata": {},
   "outputs": [],
   "source": [
    "#fs=find_laps(1)\n",
    "fs=find_speed_ranges(192,1)\n",
    "print(fs)\n",
    "for i in fs:   \n",
    "    #print(i)\n",
    "    print(df.Distancetravelled[i[\"start\"]],\n",
    "        df.Tripcomputer[i[\"start\"]])\n",
    "        #df.BMSHVBatterySoChighres[i[\"start\"]],\n",
    "        #df.Battenergy[i[\"start\"]])\n",
    "  #  print(df.Vehiclespeed[i[\"start\"]:i[\"end\"]].describe())\n",
    "print(\"\\n--diffs--\")\n",
    "[[round(i,3) for i in d] for d in get_diffs(fs)]\n"
   ]
  },
  {
   "cell_type": "markdown",
   "metadata": {},
   "source": [
    "der Verbrauch aus den summierten voltages"
   ]
  },
  {
   "cell_type": "code",
   "execution_count": null,
   "metadata": {},
   "outputs": [],
   "source": [
    "\n",
    "print([[round(100*d[4]/d[0],3) ] for d in get_diffs(fs)])"
   ]
  },
  {
   "cell_type": "code",
   "execution_count": null,
   "metadata": {},
   "outputs": [],
   "source": [
    "s=[f[\"start\"] for f in fs]\n",
    "e=[f[\"end\"] for f in fs]\n",
    "df[\"starts\"] = df.iloc[s].Vehiclespeed\n",
    "df[\"ends\"] = df.iloc[e].Vehiclespeed\n",
    "plt.figure(figsize=(20,16))\n",
    "plt.scatter(df.index,df[\"starts\"],c='g')\n",
    "plt.scatter(df.index,df[\"ends\"],c='r')\n",
    "\n",
    "plt.plot(df.index,df.Vehiclespeed)\n",
    "\n",
    "plt.show()"
   ]
  },
  {
   "cell_type": "code",
   "execution_count": null,
   "metadata": {},
   "outputs": [],
   "source": [
    "df.BMSHVBatteryTemperatureAverage.plot(grid=True, figsize=(12,8), ylim=(10,32))"
   ]
  },
  {
   "cell_type": "code",
   "execution_count": null,
   "metadata": {},
   "outputs": [],
   "source": [
    "df.EVInstantEnergyConsumptionkWh100km.rolling(30).mean().plot(figsize=(11,8),ylim=(-30,120),grid=True)"
   ]
  },
  {
   "cell_type": "code",
   "execution_count": null,
   "metadata": {},
   "outputs": [],
   "source": [
    "for i in fs:\n",
    "    print(df.Power[i[\"start\"]:i[\"end\"]].sum()/(hz * 3600))\n",
    "    print(df.HVEVBatteryPower[i[\"start\"]:i[\"end\"]].sum()/(hz * 3600))\n",
    "    print(df.PTCWaterpumppower[i[\"start\"]:i[\"end\"]].sum()/(hz * 3600000))\n",
    "    print(\"-\")\n"
   ]
  },
  {
   "cell_type": "code",
   "execution_count": null,
   "metadata": {},
   "outputs": [],
   "source": [
    "from winsound import Beep\n",
    "Beep(1000,1000)\n",
    "df.C6HVCHRGREnergyturnovertotal.min\n",
    "df.C6HVCHRGREnergyturnovertotal.max\n",
    "#df.to_csv('C:\\\\Users\\\\Falco\\\\OneDrive\\\\Ablage\\\\TaycanMeerbusch.csv')"
   ]
  },
  {
   "cell_type": "code",
   "execution_count": null,
   "metadata": {},
   "outputs": [],
   "source": [
    "from matplotlib.pyplot import ylim\n",
    "\n",
    "\n",
    "df.Tripcomputer.plot(ylim=(0,40), figsize=(10,9), grid=True)"
   ]
  },
  {
   "cell_type": "code",
   "execution_count": null,
   "metadata": {},
   "outputs": [],
   "source": [
    "dfr=df[pd.to_datetime(\"11:15\"):pd.to_datetime(\"11:24\")]\n",
    "dfr.HVEVBatteryPower.rolling(10).mean().plot(label='HVEVBatteryPower rolling mean');\n",
    "#df.HVEVBatteryPower.ewm(span=20).mean().plot(figsize=(11,8))\n",
    "#df.AltitudeGPS.ewm(span=20).mean().plot(figsize=(11,8))\n",
    "#dfr.Tripcomputer.plot( color = (1,0,1), label = 'Tripcomputer kWh/100km');\n",
    "dfr.Vehiclespeed.plot( color = (0,1,0), label = 'Vehicle speed km/h');\n",
    "#dfr.Distancetravelled.plot( color = (0,0,1), label = 'Distance travelled km');\n",
    "dfr.EVInstantEnergyConsumptionkWh100km.rolling(10).mean().plot(figsize=(11,8),ylim=(-10,30),grid=True)\n",
    "plt.legend()\n",
    "plt.show()\n"
   ]
  },
  {
   "cell_type": "code",
   "execution_count": null,
   "metadata": {},
   "outputs": [],
   "source": [
    "df.HVEVBatteryPower.plot(kind='hist', bins=np.arange(-270,90,1), figsize=(12,6), xlim=(-90,90))\n",
    "plt.legend()"
   ]
  },
  {
   "cell_type": "code",
   "execution_count": null,
   "metadata": {},
   "outputs": [],
   "source": [
    "df.filter(regex=\"51E|Geschw|kWh\").rolling(60).mean().plot(ylim=(-10,150), figsize=(15,10))"
   ]
  },
  {
   "cell_type": "markdown",
   "metadata": {},
   "source": [
    "testing attribute access and renaming value"
   ]
  },
  {
   "cell_type": "code",
   "execution_count": null,
   "metadata": {},
   "outputs": [],
   "source": [
    "#df.Vehiclespeed.plot(label='Vehicle Speed')\n",
    "#df.rename(columns = {'Vehiclespeed':'speed'}, inplace = True)\n",
    "#df.Vehiclespeed.plot(figsize=(11,8), label='Vehicle Speed')\n",
    "#plt.legend()\n",
    "\n",
    "#df.loc[:,df.AbsolutepedalpositionD]\n",
    "\n"
   ]
  },
  {
   "cell_type": "code",
   "execution_count": null,
   "metadata": {},
   "outputs": [],
   "source": [
    "df.columns"
   ]
  },
  {
   "cell_type": "code",
   "execution_count": null,
   "metadata": {},
   "outputs": [],
   "source": [
    "\n",
    "ax = df.EVInstantEnergyConsumptionkWh100km[200:36000].rolling(200).mean().plot(ylim=(0,35),label='Tripcomputer', figsize=(15,10))\n",
    "#ax.set_xticklabels(, rotation=45)\n",
    "df.Vehiclespeed[200:36000].plot(figsize=(10,5), grid=True, secondary_y=True,ax=ax, label='Vehiclespeed')\n",
    "ax.legend(loc='upper right')"
   ]
  },
  {
   "cell_type": "code",
   "execution_count": null,
   "metadata": {},
   "outputs": [],
   "source": [
    "fig = plt.figure()\n",
    "ax = fig.add_subplot(111)\n",
    "ax.plot(df.Vehiclespeed, color = (0,0,0), linewidth = 1, alpha = .9, label = 'Speed');\n",
    "ax.plot(df.Tripcomputer, color = (1,0,1), label = 'Tripcomputer kWh/100km');\n",
    "ax.set_title('Taycan consumption')\n",
    "ax.set_xlabel('Time')\n",
    "ax.set_ylabel('consump')\n",
    "ax.secondary_yaxis=True;\n",
    "ax.legend(loc='upper right');"
   ]
  },
  {
   "cell_type": "code",
   "execution_count": null,
   "metadata": {},
   "outputs": [],
   "source": [
    "df.Distancetravelled.to_frame()"
   ]
  },
  {
   "cell_type": "code",
   "execution_count": null,
   "metadata": {},
   "outputs": [],
   "source": [
    "temps=df.filter(regex=\"Cooling|ryT\")\n",
    "print(temps.columns)\n",
    "ax= temps.rolling(30).mean().plot(figsize=(15,10),ylim=(0,40))\n",
    "df.PTCWaterpumppower.rolling(30).mean().plot(figsize=(10,6),ylim=(0,40), linewidth=2, alpha=.2, grid=True, label=\"AC\", secondary_y=True, ax=ax)\n",
    "plt.legend()\n"
   ]
  },
  {
   "cell_type": "code",
   "execution_count": null,
   "metadata": {},
   "outputs": [],
   "source": [
    "df.apply(pd.Series.max)-df.apply(pd.Series.min)"
   ]
  },
  {
   "cell_type": "code",
   "execution_count": null,
   "metadata": {},
   "outputs": [],
   "source": [
    "fig, ax = plt.subplots()\n",
    "import matplotlib.dates as md\n",
    "\n",
    "ax.plot(df.filter(regex=\"SoC\"))\n",
    "\n",
    "#ax.xaxis.set_major_locator(md.MinuteLocator(interval = 5))\n",
    "ax.xaxis.set_major_formatter(md.DateFormatter('%H:%M'))\n",
    "plt.setp(ax.xaxis.get_majorticklabels(), rotation = 90)\n",
    "plt.show()"
   ]
  },
  {
   "cell_type": "code",
   "execution_count": null,
   "metadata": {},
   "outputs": [],
   "source": [
    "df.filter(regex=\"ySo\").plot(figsize=(10,6),ylim=(20,60))"
   ]
  }
 ],
 "metadata": {
  "kernelspec": {
   "display_name": "Python 3",
   "language": "python",
   "name": "python3"
  },
  "language_info": {
   "codemirror_mode": {
    "name": "ipython",
    "version": 3
   },
   "file_extension": ".py",
   "mimetype": "text/x-python",
   "name": "python",
   "nbconvert_exporter": "python",
   "pygments_lexer": "ipython3",
   "version": "3.10.9 (tags/v3.10.9:1dd9be6, Dec  6 2022, 20:01:21) [MSC v.1934 64 bit (AMD64)]"
  },
  "orig_nbformat": 4,
  "vscode": {
   "interpreter": {
    "hash": "a7085bc572327b70119356b92d91b03dcc8faec7d9473c1710c277a3b78b5c61"
   }
  }
 },
 "nbformat": 4,
 "nbformat_minor": 2
}
