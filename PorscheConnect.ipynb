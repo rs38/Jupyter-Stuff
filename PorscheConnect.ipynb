{
 "cells": [
  {
   "cell_type": "markdown",
   "metadata": {},
   "source": [
    "# Some Porsche Taycan Statistics\n"
   ]
  },
  {
   "cell_type": "code",
   "execution_count": null,
   "metadata": {},
   "outputs": [],
   "source": [
    "import pandas as pd\n",
    "import numpy as np\n",
    "import os\n",
    "import matplotlib.pyplot as plt\n",
    "import json\n",
    "dir = os.getcwd()\n",
    "dir = r\"C:\\Users\\fbeth\\OneDrive\\Dokumente\"\n",
    "for file in os.listdir(dir):\n",
    "    if file.endswith('2.json') and file.__contains__('short'):\n",
    "        file = os.path.join(dir, file)\n",
    "        break\n",
    "\n",
    "print (f\"reading file {file}\")\n",
    "df = pd.read_json(file)\n",
    "df.info()\n"
   ]
  },
  {
   "cell_type": "markdown",
   "metadata": {},
   "source": [
    "__________\n",
    "### clean some columns \n",
    "\n",
    "also for nicer usage"
   ]
  },
  {
   "cell_type": "code",
   "execution_count": null,
   "metadata": {},
   "outputs": [],
   "source": [
    "def clean_data(df):\n",
    "     \n",
    "    del df[df.averageFuelConsumption.name] #not needed on an electric car\n",
    "\n",
    "    df['km']=[d.get('value') for d in df.zeroEmissionDistance]\n",
    "    del df[df.zeroEmissionDistance.name]\n",
    "    df['km2']=[d.get('value') for d in df.tripMileage]\n",
    "    del df[df.tripMileage.name]\n",
    "    #\n",
    "    df['consump'] = df.averageElectricEngineConsumption.apply(lambda x: x.get('value'))\n",
    "    df.drop(df.averageElectricEngineConsumption.name, axis=1, inplace=True)\n",
    "    #\n",
    "    df['avgSpeed'] = df.averageSpeed.apply(lambda x: x.get('value'))\n",
    "    del df[df.averageSpeed.name]\n",
    "    # odo\n",
    "    df['odo'] = df.endMileage.apply(lambda x: x.get('value'))\n",
    "    del df[df.endMileage.name]\n",
    "    #\n",
    "    del df[df.startMileage.name]\n",
    "\n",
    "    return df\n",
    "\n",
    "\n",
    "df = clean_data(df)\n",
    "\n",
    "\n"
   ]
  },
  {
   "cell_type": "markdown",
   "metadata": {},
   "source": [
    "### drop unplausible or unwanted periods if any\n"
   ]
  },
  {
   "cell_type": "code",
   "execution_count": null,
   "metadata": {},
   "outputs": [],
   "source": [
    "df= df.set_index('timestamp').loc['2020-10-18':] #'2022-09-19']\n",
    "df.index"
   ]
  },
  {
   "cell_type": "code",
   "execution_count": null,
   "metadata": {},
   "outputs": [],
   "source": [
    "df.query('km >90') # shwo trips longer than 90 km\n"
   ]
  },
  {
   "cell_type": "code",
   "execution_count": null,
   "metadata": {},
   "outputs": [],
   "source": [
    "#df.query('km > 10',inplace=True) # reduce noise in the data due to short trips = cold starts.\n",
    "\n",
    "df['rol'] = df.consump.rolling(20).mean()\n",
    "\n",
    "df.plot(kind=\"line\",y=['rol','consump'],figsize=(12,8),title='Consumption',grid=True)\n",
    "#x2.plot(kind='bar', figsize=(12,6))"
   ]
  },
  {
   "cell_type": "code",
   "execution_count": null,
   "metadata": {},
   "outputs": [],
   "source": [
    "fig = plt.figure()\n",
    "ax = fig.add_subplot(111)\n",
    "ax.plot(df.rol[\"2022\"], color = (0,0,0), linewidth = 4, alpha = .9, label = 'Smoothed');\n",
    "ax.plot(df.consump[\"2022\"], color = (1,0,1), label = 'Original');\n",
    "ax.set_title('Taycan consumption')\n",
    "ax.set_xlabel('Time')\n",
    "ax.set_ylabel('consump')\n",
    "ax.legend(loc='upper right');"
   ]
  },
  {
   "cell_type": "code",
   "execution_count": null,
   "metadata": {},
   "outputs": [],
   "source": [
    "plt.xlabel('kwh/100km')\n",
    "plt.ylabel('trips > 10km')\n",
    "plt.title('Histogram of consumption')\n",
    "plt.ylim(0,10)\n",
    "plt.xlim(10,40)\n",
    "plt.hist(df.consump[\"2022\"].where(df.km > 10), bins = np.arange(10,40,0.5) )\n",
    "plt.show()"
   ]
  }
 ],
 "metadata": {
  "interpreter": {
   "hash": "526a72e73879e797a791e60034903da971bd01f07b57975f621f431a449b63d5"
  },
  "kernelspec": {
   "display_name": "Python 3.8.6 64-bit",
   "language": "python",
   "name": "python3"
  },
  "language_info": {
   "codemirror_mode": {
    "name": "ipython",
    "version": 3
   },
   "file_extension": ".py",
   "mimetype": "text/x-python",
   "name": "python",
   "nbconvert_exporter": "python",
   "pygments_lexer": "ipython3",
   "version": "3.10.11"
  },
  "orig_nbformat": 4
 },
 "nbformat": 4,
 "nbformat_minor": 2
}
