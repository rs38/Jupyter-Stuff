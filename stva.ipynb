{
 "cells": [
  {
   "cell_type": "code",
   "execution_count": 15,
   "metadata": {},
   "outputs": [
    {
     "name": "stdout",
     "output_type": "stream",
     "text": [
      "\">Ihre Sitzung läuft aus in <span id=\"sessio\n"
     ]
    }
   ],
   "source": [
    "import requests\n",
    "import re\n",
    "import datetime\n",
    "\n",
    "def read_page():\n",
    "    url = \"https://tevis.krzn.de/tevisweb700/location?mdt=95&select_cnc=1&cnc-1409=1\"\n",
    "    headers = {\n",
    "        \"accept\": \"text/html,application/xhtml+xml,application/xml;q=0.9,image/avif,image/webp,image/apng,*/*;q=0.8,application/signed-exchange;v=b3;q=0.7\",\n",
    "        \"accept-language\": \"en-US,en;q=0.9,de;q=0.8,de-DE;q=0.7\",\n",
    "        \"sec-ch-ua\": \"\\\"Chromium\\\";v=\\\"124\\\", \\\"Microsoft Edge\\\";v=\\\"124\\\", \\\"Not-A.Brand\\\";v=\\\"99\\\"\",\n",
    "        \"sec-ch-ua-mobile\": \"?0\",\n",
    "        \"sec-ch-ua-platform\": \"\\\"Windows\\\"\",\n",
    "        \"sec-fetch-dest\": \"empty\",\n",
    "        \"sec-fetch-mode\": \"cors\",\n",
    "        \"sec-fetch-site\": \"same-origin\",\n",
    "        \"upgrade-insecure-requests\": \"1\",\n",
    "        \"cookie\": \"tvo_session=8ohbmjvs96nscgrd83b8m0vi2b; tvo_cookie_accept=0; tvo_map_agreement=1\"\n",
    "    }\n",
    "    return requests.get(url, headers=headers).text\n",
    "\n",
    "\n",
    "\n",
    "seach_string = \"Termine ab\"\n",
    "\n",
    "def simplefind(seach, response_text):\n",
    "    #-20 and +20 characters around the search string\n",
    "    search_string_occurences = [i for i in range(len(response_text)) if response_text.startswith(seach, i)]\n",
    "    for i in search_string_occurences:\n",
    "        #check the html the text is in\n",
    "        \n",
    "        print(response_text[i-15:i+29])\n",
    "\n",
    "\n",
    "text = read_page()\n",
    "\n",
    "simplefind(seach_string, text)\n",
    "simplefind(\"läuft aus in\", text)\n",
    "\n",
    "def tagfind(tag, searchtext, response_text):\n",
    "    #tag like <h3>\n",
    "    search_string_occurences = [i for i in range(len(response_text)) if response_text.startswith(searchtext, i)]"
   ]
  },
  {
   "cell_type": "code",
   "execution_count": 9,
   "metadata": {},
   "outputs": [
    {
     "name": "stdout",
     "output_type": "stream",
     "text": [
      "Keyword 'example' found in <p> tag.\n",
      "Text: This domain is for use in illustrative examples in documents. You may use this\n",
      "    domain in literature without prior coordination or asking for permission.\n",
      "Element: <p>This domain is for use in illustrative examples in documents. You may use this\n",
      "    domain in literature without prior coordination or asking for permission.</p>\n",
      "----------------------------------------\n",
      "Keyword 'example' found in <h1> tag.\n",
      "Text: Example Domain\n",
      "Element: <h1>Example Domain</h1>\n",
      "----------------------------------------\n",
      "Keyword 'example' found in <div> tag.\n",
      "Text: Example Domain\n",
      "This domain is for use in illustrative examples in documents. You may use this\n",
      "    domain in literature without prior coordination or asking for permission.\n",
      "More information...\n",
      "Element: <div>\n",
      "<h1>Example Domain</h1>\n",
      "<p>This domain is for use in illustrative examples in documents. You may use this\n",
      "    domain in literature without prior coordination or asking for permission.</p>\n",
      "<p><a href=\"https://www.iana.org/domains/example\">More information...</a></p>\n",
      "</div>\n",
      "----------------------------------------\n"
     ]
    }
   ],
   "source": [
    "from bs4 import BeautifulSoup\n",
    "import requests\n",
    "\n",
    "# Function to search for keywords within specific tags\n",
    "def search_keywords_in_tags(html, tags, keywords):\n",
    "    soup = BeautifulSoup(html, 'html.parser')\n",
    "    results = []\n",
    "\n",
    "    # Loop through each tag and search for keywords\n",
    "    for tag in tags:\n",
    "        elements = soup.find_all(tag)\n",
    "        for element in elements:\n",
    "            text = element.get_text()\n",
    "            for keyword in keywords:\n",
    "                if keyword.lower() in text.lower():\n",
    "                    results.append({\n",
    "                        'keyword': keyword,\n",
    "                        'tag': tag,\n",
    "                        'text': text.strip(),\n",
    "                        'element': element\n",
    "                    })\n",
    "\n",
    "    return results\n",
    "\n",
    "\n",
    "if __name__ == \"__main__\":\n",
    "    # URL of the HTML document (or you can use a local HTML file)\n",
    "    url = 'https://www.example.com'\n",
    "    response = requests.get(url)\n",
    "\n",
    "    # Define the tags you want to search within and the keywords you're looking for\n",
    "    tags_to_search = ['p', 'h1', 'h2', 'div']\n",
    "    keywords_to_search = ['example', 'keyword', 'search']\n",
    "\n",
    "    # Get the HTML content\n",
    "    html_content = response.text\n",
    "\n",
    "    # Search for keywords within the specified tags\n",
    "    search_results = search_keywords_in_tags(html_content, tags_to_search, keywords_to_search)\n",
    "\n",
    "    # Print the results\n",
    "    for result in search_results:\n",
    "        print(f\"Keyword '{result['keyword']}' found in <{result['tag']}> tag.\")\n",
    "        print(f\"Text: {result['text']}\")\n",
    "        print(f\"Element: {result['element']}\")\n",
    "        print('-' * 40)\n"
   ]
  }
 ],
 "metadata": {
  "kernelspec": {
   "display_name": "Python 3",
   "language": "python",
   "name": "python3"
  },
  "language_info": {
   "codemirror_mode": {
    "name": "ipython",
    "version": 3
   },
   "file_extension": ".py",
   "mimetype": "text/x-python",
   "name": "python",
   "nbconvert_exporter": "python",
   "pygments_lexer": "ipython3",
   "version": "3.12.1"
  }
 },
 "nbformat": 4,
 "nbformat_minor": 2
}
